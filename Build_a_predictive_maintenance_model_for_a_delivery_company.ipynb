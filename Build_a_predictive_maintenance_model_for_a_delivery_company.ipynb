{
  "cells": [
    {
      "cell_type": "markdown",
      "id": "988fc85c",
      "metadata": {
        "id": "988fc85c"
      },
      "source": [
        "Cihazın ne zaman veya hangi cihazın hata vereceğini tahmin eder."
      ]
    },
    {
      "cell_type": "code",
      "execution_count": 1,
      "id": "d8373a23",
      "metadata": {
        "id": "d8373a23"
      },
      "outputs": [],
      "source": [
        "import pandas as pd\n",
        "import numpy as np\n",
        "import warnings\n",
        "warnings.filterwarnings('ignore')\n",
        "import matplotlib.pyplot as plt\n",
        "import seaborn as sns"
      ]
    },
    {
      "cell_type": "code",
      "execution_count": 2,
      "id": "b0a51b79",
      "metadata": {
        "id": "b0a51b79"
      },
      "outputs": [],
      "source": [
        "df=pd.read_csv('failure (1).csv')"
      ]
    },
    {
      "cell_type": "markdown",
      "id": "07975d9b",
      "metadata": {
        "id": "07975d9b"
      },
      "source": [
        "## EXPLORATORY DATA ANALYSIS"
      ]
    },
    {
      "cell_type": "code",
      "execution_count": 3,
      "id": "4f621875",
      "metadata": {
        "colab": {
          "base_uri": "https://localhost:8080/",
          "height": 206
        },
        "id": "4f621875",
        "outputId": "ed9f9c64-2b5c-4a33-9891-ea7250c98fa2"
      },
      "outputs": [
        {
          "output_type": "execute_result",
          "data": {
            "text/plain": [
              "         date    device  failure  attribute1  attribute2  attribute3  \\\n",
              "0  2015-01-01  S1F01085        0   215630672          56           0   \n",
              "1  2015-01-01  S1F0166B        0    61370680           0           3   \n",
              "2  2015-01-01  S1F01E6Y        0   173295968           0           0   \n",
              "3  2015-01-01  S1F01JE0        0    79694024           0           0   \n",
              "4  2015-01-01  S1F01R2B        0   135970480           0           0   \n",
              "\n",
              "   attribute4  attribute5  attribute6  attribute7  attribute8  attribute9  \n",
              "0          52           6      407438           0           0           7  \n",
              "1           0           6      403174           0           0           0  \n",
              "2           0          12      237394           0           0           0  \n",
              "3           0           6      410186           0           0           0  \n",
              "4           0          15      313173           0           0           3  "
            ],
            "text/html": [
              "\n",
              "  <div id=\"df-ce5bcc10-ad8d-47c5-94f1-f9ef83aaea96\">\n",
              "    <div class=\"colab-df-container\">\n",
              "      <div>\n",
              "<style scoped>\n",
              "    .dataframe tbody tr th:only-of-type {\n",
              "        vertical-align: middle;\n",
              "    }\n",
              "\n",
              "    .dataframe tbody tr th {\n",
              "        vertical-align: top;\n",
              "    }\n",
              "\n",
              "    .dataframe thead th {\n",
              "        text-align: right;\n",
              "    }\n",
              "</style>\n",
              "<table border=\"1\" class=\"dataframe\">\n",
              "  <thead>\n",
              "    <tr style=\"text-align: right;\">\n",
              "      <th></th>\n",
              "      <th>date</th>\n",
              "      <th>device</th>\n",
              "      <th>failure</th>\n",
              "      <th>attribute1</th>\n",
              "      <th>attribute2</th>\n",
              "      <th>attribute3</th>\n",
              "      <th>attribute4</th>\n",
              "      <th>attribute5</th>\n",
              "      <th>attribute6</th>\n",
              "      <th>attribute7</th>\n",
              "      <th>attribute8</th>\n",
              "      <th>attribute9</th>\n",
              "    </tr>\n",
              "  </thead>\n",
              "  <tbody>\n",
              "    <tr>\n",
              "      <th>0</th>\n",
              "      <td>2015-01-01</td>\n",
              "      <td>S1F01085</td>\n",
              "      <td>0</td>\n",
              "      <td>215630672</td>\n",
              "      <td>56</td>\n",
              "      <td>0</td>\n",
              "      <td>52</td>\n",
              "      <td>6</td>\n",
              "      <td>407438</td>\n",
              "      <td>0</td>\n",
              "      <td>0</td>\n",
              "      <td>7</td>\n",
              "    </tr>\n",
              "    <tr>\n",
              "      <th>1</th>\n",
              "      <td>2015-01-01</td>\n",
              "      <td>S1F0166B</td>\n",
              "      <td>0</td>\n",
              "      <td>61370680</td>\n",
              "      <td>0</td>\n",
              "      <td>3</td>\n",
              "      <td>0</td>\n",
              "      <td>6</td>\n",
              "      <td>403174</td>\n",
              "      <td>0</td>\n",
              "      <td>0</td>\n",
              "      <td>0</td>\n",
              "    </tr>\n",
              "    <tr>\n",
              "      <th>2</th>\n",
              "      <td>2015-01-01</td>\n",
              "      <td>S1F01E6Y</td>\n",
              "      <td>0</td>\n",
              "      <td>173295968</td>\n",
              "      <td>0</td>\n",
              "      <td>0</td>\n",
              "      <td>0</td>\n",
              "      <td>12</td>\n",
              "      <td>237394</td>\n",
              "      <td>0</td>\n",
              "      <td>0</td>\n",
              "      <td>0</td>\n",
              "    </tr>\n",
              "    <tr>\n",
              "      <th>3</th>\n",
              "      <td>2015-01-01</td>\n",
              "      <td>S1F01JE0</td>\n",
              "      <td>0</td>\n",
              "      <td>79694024</td>\n",
              "      <td>0</td>\n",
              "      <td>0</td>\n",
              "      <td>0</td>\n",
              "      <td>6</td>\n",
              "      <td>410186</td>\n",
              "      <td>0</td>\n",
              "      <td>0</td>\n",
              "      <td>0</td>\n",
              "    </tr>\n",
              "    <tr>\n",
              "      <th>4</th>\n",
              "      <td>2015-01-01</td>\n",
              "      <td>S1F01R2B</td>\n",
              "      <td>0</td>\n",
              "      <td>135970480</td>\n",
              "      <td>0</td>\n",
              "      <td>0</td>\n",
              "      <td>0</td>\n",
              "      <td>15</td>\n",
              "      <td>313173</td>\n",
              "      <td>0</td>\n",
              "      <td>0</td>\n",
              "      <td>3</td>\n",
              "    </tr>\n",
              "  </tbody>\n",
              "</table>\n",
              "</div>\n",
              "      <button class=\"colab-df-convert\" onclick=\"convertToInteractive('df-ce5bcc10-ad8d-47c5-94f1-f9ef83aaea96')\"\n",
              "              title=\"Convert this dataframe to an interactive table.\"\n",
              "              style=\"display:none;\">\n",
              "        \n",
              "  <svg xmlns=\"http://www.w3.org/2000/svg\" height=\"24px\"viewBox=\"0 0 24 24\"\n",
              "       width=\"24px\">\n",
              "    <path d=\"M0 0h24v24H0V0z\" fill=\"none\"/>\n",
              "    <path d=\"M18.56 5.44l.94 2.06.94-2.06 2.06-.94-2.06-.94-.94-2.06-.94 2.06-2.06.94zm-11 1L8.5 8.5l.94-2.06 2.06-.94-2.06-.94L8.5 2.5l-.94 2.06-2.06.94zm10 10l.94 2.06.94-2.06 2.06-.94-2.06-.94-.94-2.06-.94 2.06-2.06.94z\"/><path d=\"M17.41 7.96l-1.37-1.37c-.4-.4-.92-.59-1.43-.59-.52 0-1.04.2-1.43.59L10.3 9.45l-7.72 7.72c-.78.78-.78 2.05 0 2.83L4 21.41c.39.39.9.59 1.41.59.51 0 1.02-.2 1.41-.59l7.78-7.78 2.81-2.81c.8-.78.8-2.07 0-2.86zM5.41 20L4 18.59l7.72-7.72 1.47 1.35L5.41 20z\"/>\n",
              "  </svg>\n",
              "      </button>\n",
              "      \n",
              "  <style>\n",
              "    .colab-df-container {\n",
              "      display:flex;\n",
              "      flex-wrap:wrap;\n",
              "      gap: 12px;\n",
              "    }\n",
              "\n",
              "    .colab-df-convert {\n",
              "      background-color: #E8F0FE;\n",
              "      border: none;\n",
              "      border-radius: 50%;\n",
              "      cursor: pointer;\n",
              "      display: none;\n",
              "      fill: #1967D2;\n",
              "      height: 32px;\n",
              "      padding: 0 0 0 0;\n",
              "      width: 32px;\n",
              "    }\n",
              "\n",
              "    .colab-df-convert:hover {\n",
              "      background-color: #E2EBFA;\n",
              "      box-shadow: 0px 1px 2px rgba(60, 64, 67, 0.3), 0px 1px 3px 1px rgba(60, 64, 67, 0.15);\n",
              "      fill: #174EA6;\n",
              "    }\n",
              "\n",
              "    [theme=dark] .colab-df-convert {\n",
              "      background-color: #3B4455;\n",
              "      fill: #D2E3FC;\n",
              "    }\n",
              "\n",
              "    [theme=dark] .colab-df-convert:hover {\n",
              "      background-color: #434B5C;\n",
              "      box-shadow: 0px 1px 3px 1px rgba(0, 0, 0, 0.15);\n",
              "      filter: drop-shadow(0px 1px 2px rgba(0, 0, 0, 0.3));\n",
              "      fill: #FFFFFF;\n",
              "    }\n",
              "  </style>\n",
              "\n",
              "      <script>\n",
              "        const buttonEl =\n",
              "          document.querySelector('#df-ce5bcc10-ad8d-47c5-94f1-f9ef83aaea96 button.colab-df-convert');\n",
              "        buttonEl.style.display =\n",
              "          google.colab.kernel.accessAllowed ? 'block' : 'none';\n",
              "\n",
              "        async function convertToInteractive(key) {\n",
              "          const element = document.querySelector('#df-ce5bcc10-ad8d-47c5-94f1-f9ef83aaea96');\n",
              "          const dataTable =\n",
              "            await google.colab.kernel.invokeFunction('convertToInteractive',\n",
              "                                                     [key], {});\n",
              "          if (!dataTable) return;\n",
              "\n",
              "          const docLinkHtml = 'Like what you see? Visit the ' +\n",
              "            '<a target=\"_blank\" href=https://colab.research.google.com/notebooks/data_table.ipynb>data table notebook</a>'\n",
              "            + ' to learn more about interactive tables.';\n",
              "          element.innerHTML = '';\n",
              "          dataTable['output_type'] = 'display_data';\n",
              "          await google.colab.output.renderOutput(dataTable, element);\n",
              "          const docLink = document.createElement('div');\n",
              "          docLink.innerHTML = docLinkHtml;\n",
              "          element.appendChild(docLink);\n",
              "        }\n",
              "      </script>\n",
              "    </div>\n",
              "  </div>\n",
              "  "
            ]
          },
          "metadata": {},
          "execution_count": 3
        }
      ],
      "source": [
        "df.head()"
      ]
    },
    {
      "cell_type": "code",
      "execution_count": 4,
      "id": "3707eeec",
      "metadata": {
        "colab": {
          "base_uri": "https://localhost:8080/",
          "height": 206
        },
        "id": "3707eeec",
        "outputId": "d82dc3a0-6da0-41e0-9c07-63c9549221a5"
      },
      "outputs": [
        {
          "output_type": "execute_result",
          "data": {
            "text/plain": [
              "              date    device  failure  attribute1  attribute2  attribute3  \\\n",
              "72825   2015-04-21  S1F0KYCR        0    78022832           0           0   \n",
              "55851   2015-03-17  W1F1DA55        0   123258656           0           0   \n",
              "6410    2015-01-06  W1F0RN8N        0   239102512           0           0   \n",
              "104229  2015-07-18  W1F14N6K        0    68224992           0           0   \n",
              "55323   2015-03-16  Z1F1VMZB        0    17383904           0           0   \n",
              "\n",
              "        attribute4  attribute5  attribute6  attribute7  attribute8  attribute9  \n",
              "72825            0          10      255611           0           0           0  \n",
              "55851            0          13          44           0           0           0  \n",
              "6410             0          14      197343           0           0           0  \n",
              "104229           0          16      367517           0           0           0  \n",
              "55323            0           5      219968           0           0           0  "
            ],
            "text/html": [
              "\n",
              "  <div id=\"df-d9a1250f-558b-45af-8a45-914f67a40dd5\">\n",
              "    <div class=\"colab-df-container\">\n",
              "      <div>\n",
              "<style scoped>\n",
              "    .dataframe tbody tr th:only-of-type {\n",
              "        vertical-align: middle;\n",
              "    }\n",
              "\n",
              "    .dataframe tbody tr th {\n",
              "        vertical-align: top;\n",
              "    }\n",
              "\n",
              "    .dataframe thead th {\n",
              "        text-align: right;\n",
              "    }\n",
              "</style>\n",
              "<table border=\"1\" class=\"dataframe\">\n",
              "  <thead>\n",
              "    <tr style=\"text-align: right;\">\n",
              "      <th></th>\n",
              "      <th>date</th>\n",
              "      <th>device</th>\n",
              "      <th>failure</th>\n",
              "      <th>attribute1</th>\n",
              "      <th>attribute2</th>\n",
              "      <th>attribute3</th>\n",
              "      <th>attribute4</th>\n",
              "      <th>attribute5</th>\n",
              "      <th>attribute6</th>\n",
              "      <th>attribute7</th>\n",
              "      <th>attribute8</th>\n",
              "      <th>attribute9</th>\n",
              "    </tr>\n",
              "  </thead>\n",
              "  <tbody>\n",
              "    <tr>\n",
              "      <th>72825</th>\n",
              "      <td>2015-04-21</td>\n",
              "      <td>S1F0KYCR</td>\n",
              "      <td>0</td>\n",
              "      <td>78022832</td>\n",
              "      <td>0</td>\n",
              "      <td>0</td>\n",
              "      <td>0</td>\n",
              "      <td>10</td>\n",
              "      <td>255611</td>\n",
              "      <td>0</td>\n",
              "      <td>0</td>\n",
              "      <td>0</td>\n",
              "    </tr>\n",
              "    <tr>\n",
              "      <th>55851</th>\n",
              "      <td>2015-03-17</td>\n",
              "      <td>W1F1DA55</td>\n",
              "      <td>0</td>\n",
              "      <td>123258656</td>\n",
              "      <td>0</td>\n",
              "      <td>0</td>\n",
              "      <td>0</td>\n",
              "      <td>13</td>\n",
              "      <td>44</td>\n",
              "      <td>0</td>\n",
              "      <td>0</td>\n",
              "      <td>0</td>\n",
              "    </tr>\n",
              "    <tr>\n",
              "      <th>6410</th>\n",
              "      <td>2015-01-06</td>\n",
              "      <td>W1F0RN8N</td>\n",
              "      <td>0</td>\n",
              "      <td>239102512</td>\n",
              "      <td>0</td>\n",
              "      <td>0</td>\n",
              "      <td>0</td>\n",
              "      <td>14</td>\n",
              "      <td>197343</td>\n",
              "      <td>0</td>\n",
              "      <td>0</td>\n",
              "      <td>0</td>\n",
              "    </tr>\n",
              "    <tr>\n",
              "      <th>104229</th>\n",
              "      <td>2015-07-18</td>\n",
              "      <td>W1F14N6K</td>\n",
              "      <td>0</td>\n",
              "      <td>68224992</td>\n",
              "      <td>0</td>\n",
              "      <td>0</td>\n",
              "      <td>0</td>\n",
              "      <td>16</td>\n",
              "      <td>367517</td>\n",
              "      <td>0</td>\n",
              "      <td>0</td>\n",
              "      <td>0</td>\n",
              "    </tr>\n",
              "    <tr>\n",
              "      <th>55323</th>\n",
              "      <td>2015-03-16</td>\n",
              "      <td>Z1F1VMZB</td>\n",
              "      <td>0</td>\n",
              "      <td>17383904</td>\n",
              "      <td>0</td>\n",
              "      <td>0</td>\n",
              "      <td>0</td>\n",
              "      <td>5</td>\n",
              "      <td>219968</td>\n",
              "      <td>0</td>\n",
              "      <td>0</td>\n",
              "      <td>0</td>\n",
              "    </tr>\n",
              "  </tbody>\n",
              "</table>\n",
              "</div>\n",
              "      <button class=\"colab-df-convert\" onclick=\"convertToInteractive('df-d9a1250f-558b-45af-8a45-914f67a40dd5')\"\n",
              "              title=\"Convert this dataframe to an interactive table.\"\n",
              "              style=\"display:none;\">\n",
              "        \n",
              "  <svg xmlns=\"http://www.w3.org/2000/svg\" height=\"24px\"viewBox=\"0 0 24 24\"\n",
              "       width=\"24px\">\n",
              "    <path d=\"M0 0h24v24H0V0z\" fill=\"none\"/>\n",
              "    <path d=\"M18.56 5.44l.94 2.06.94-2.06 2.06-.94-2.06-.94-.94-2.06-.94 2.06-2.06.94zm-11 1L8.5 8.5l.94-2.06 2.06-.94-2.06-.94L8.5 2.5l-.94 2.06-2.06.94zm10 10l.94 2.06.94-2.06 2.06-.94-2.06-.94-.94-2.06-.94 2.06-2.06.94z\"/><path d=\"M17.41 7.96l-1.37-1.37c-.4-.4-.92-.59-1.43-.59-.52 0-1.04.2-1.43.59L10.3 9.45l-7.72 7.72c-.78.78-.78 2.05 0 2.83L4 21.41c.39.39.9.59 1.41.59.51 0 1.02-.2 1.41-.59l7.78-7.78 2.81-2.81c.8-.78.8-2.07 0-2.86zM5.41 20L4 18.59l7.72-7.72 1.47 1.35L5.41 20z\"/>\n",
              "  </svg>\n",
              "      </button>\n",
              "      \n",
              "  <style>\n",
              "    .colab-df-container {\n",
              "      display:flex;\n",
              "      flex-wrap:wrap;\n",
              "      gap: 12px;\n",
              "    }\n",
              "\n",
              "    .colab-df-convert {\n",
              "      background-color: #E8F0FE;\n",
              "      border: none;\n",
              "      border-radius: 50%;\n",
              "      cursor: pointer;\n",
              "      display: none;\n",
              "      fill: #1967D2;\n",
              "      height: 32px;\n",
              "      padding: 0 0 0 0;\n",
              "      width: 32px;\n",
              "    }\n",
              "\n",
              "    .colab-df-convert:hover {\n",
              "      background-color: #E2EBFA;\n",
              "      box-shadow: 0px 1px 2px rgba(60, 64, 67, 0.3), 0px 1px 3px 1px rgba(60, 64, 67, 0.15);\n",
              "      fill: #174EA6;\n",
              "    }\n",
              "\n",
              "    [theme=dark] .colab-df-convert {\n",
              "      background-color: #3B4455;\n",
              "      fill: #D2E3FC;\n",
              "    }\n",
              "\n",
              "    [theme=dark] .colab-df-convert:hover {\n",
              "      background-color: #434B5C;\n",
              "      box-shadow: 0px 1px 3px 1px rgba(0, 0, 0, 0.15);\n",
              "      filter: drop-shadow(0px 1px 2px rgba(0, 0, 0, 0.3));\n",
              "      fill: #FFFFFF;\n",
              "    }\n",
              "  </style>\n",
              "\n",
              "      <script>\n",
              "        const buttonEl =\n",
              "          document.querySelector('#df-d9a1250f-558b-45af-8a45-914f67a40dd5 button.colab-df-convert');\n",
              "        buttonEl.style.display =\n",
              "          google.colab.kernel.accessAllowed ? 'block' : 'none';\n",
              "\n",
              "        async function convertToInteractive(key) {\n",
              "          const element = document.querySelector('#df-d9a1250f-558b-45af-8a45-914f67a40dd5');\n",
              "          const dataTable =\n",
              "            await google.colab.kernel.invokeFunction('convertToInteractive',\n",
              "                                                     [key], {});\n",
              "          if (!dataTable) return;\n",
              "\n",
              "          const docLinkHtml = 'Like what you see? Visit the ' +\n",
              "            '<a target=\"_blank\" href=https://colab.research.google.com/notebooks/data_table.ipynb>data table notebook</a>'\n",
              "            + ' to learn more about interactive tables.';\n",
              "          element.innerHTML = '';\n",
              "          dataTable['output_type'] = 'display_data';\n",
              "          await google.colab.output.renderOutput(dataTable, element);\n",
              "          const docLink = document.createElement('div');\n",
              "          docLink.innerHTML = docLinkHtml;\n",
              "          element.appendChild(docLink);\n",
              "        }\n",
              "      </script>\n",
              "    </div>\n",
              "  </div>\n",
              "  "
            ]
          },
          "metadata": {},
          "execution_count": 4
        }
      ],
      "source": [
        "df.sample(5)"
      ]
    },
    {
      "cell_type": "code",
      "execution_count": 5,
      "id": "f2b7c0a3",
      "metadata": {
        "colab": {
          "base_uri": "https://localhost:8080/"
        },
        "id": "f2b7c0a3",
        "outputId": "5496da09-6f1a-4905-99d5-e4e2c144d882"
      },
      "outputs": [
        {
          "output_type": "execute_result",
          "data": {
            "text/plain": [
              "array([0, 1])"
            ]
          },
          "metadata": {},
          "execution_count": 5
        }
      ],
      "source": [
        "df.failure.unique()"
      ]
    },
    {
      "cell_type": "code",
      "execution_count": 6,
      "id": "7e837f4f",
      "metadata": {
        "colab": {
          "base_uri": "https://localhost:8080/"
        },
        "id": "7e837f4f",
        "outputId": "259c6d7a-04f9-4687-f75d-31a371f85acb"
      },
      "outputs": [
        {
          "output_type": "execute_result",
          "data": {
            "text/plain": [
              "0    124388\n",
              "1       106\n",
              "Name: failure, dtype: int64"
            ]
          },
          "metadata": {},
          "execution_count": 6
        }
      ],
      "source": [
        "df.failure.value_counts()"
      ]
    },
    {
      "cell_type": "code",
      "execution_count": 7,
      "id": "e4381f89",
      "metadata": {
        "colab": {
          "base_uri": "https://localhost:8080/"
        },
        "id": "e4381f89",
        "outputId": "34f16991-accb-4846-fb1b-e1e818dc059d"
      },
      "outputs": [
        {
          "output_type": "stream",
          "name": "stdout",
          "text": [
            "<class 'pandas.core.frame.DataFrame'>\n",
            "RangeIndex: 124494 entries, 0 to 124493\n",
            "Data columns (total 12 columns):\n",
            " #   Column      Non-Null Count   Dtype \n",
            "---  ------      --------------   ----- \n",
            " 0   date        124494 non-null  object\n",
            " 1   device      124494 non-null  object\n",
            " 2   failure     124494 non-null  int64 \n",
            " 3   attribute1  124494 non-null  int64 \n",
            " 4   attribute2  124494 non-null  int64 \n",
            " 5   attribute3  124494 non-null  int64 \n",
            " 6   attribute4  124494 non-null  int64 \n",
            " 7   attribute5  124494 non-null  int64 \n",
            " 8   attribute6  124494 non-null  int64 \n",
            " 9   attribute7  124494 non-null  int64 \n",
            " 10  attribute8  124494 non-null  int64 \n",
            " 11  attribute9  124494 non-null  int64 \n",
            "dtypes: int64(10), object(2)\n",
            "memory usage: 11.4+ MB\n"
          ]
        }
      ],
      "source": [
        "df.info()"
      ]
    },
    {
      "cell_type": "code",
      "execution_count": 8,
      "id": "96984626",
      "metadata": {
        "colab": {
          "base_uri": "https://localhost:8080/"
        },
        "id": "96984626",
        "outputId": "085decd5-b614-4ed0-ae83-70f5a94ada6a"
      },
      "outputs": [
        {
          "output_type": "execute_result",
          "data": {
            "text/plain": [
              "date          0\n",
              "device        0\n",
              "failure       0\n",
              "attribute1    0\n",
              "attribute2    0\n",
              "attribute3    0\n",
              "attribute4    0\n",
              "attribute5    0\n",
              "attribute6    0\n",
              "attribute7    0\n",
              "attribute8    0\n",
              "attribute9    0\n",
              "dtype: int64"
            ]
          },
          "metadata": {},
          "execution_count": 8
        }
      ],
      "source": [
        "df.isnull().sum()"
      ]
    },
    {
      "cell_type": "code",
      "execution_count": 9,
      "id": "79b2526f",
      "metadata": {
        "colab": {
          "base_uri": "https://localhost:8080/",
          "height": 300
        },
        "id": "79b2526f",
        "outputId": "4ee5ced6-e8d9-4a46-845e-b1e8a637d639"
      },
      "outputs": [
        {
          "output_type": "execute_result",
          "data": {
            "text/plain": [
              "             failure    attribute1     attribute2     attribute3  \\\n",
              "count  124494.000000  1.244940e+05  124494.000000  124494.000000   \n",
              "mean        0.000851  1.223868e+08     159.484762       9.940455   \n",
              "std         0.029167  7.045960e+07    2179.657730     185.747321   \n",
              "min         0.000000  0.000000e+00       0.000000       0.000000   \n",
              "25%         0.000000  6.127675e+07       0.000000       0.000000   \n",
              "50%         0.000000  1.227957e+08       0.000000       0.000000   \n",
              "75%         0.000000  1.833084e+08       0.000000       0.000000   \n",
              "max         1.000000  2.441405e+08   64968.000000   24929.000000   \n",
              "\n",
              "          attribute4     attribute5     attribute6     attribute7  \\\n",
              "count  124494.000000  124494.000000  124494.000000  124494.000000   \n",
              "mean        1.741120      14.222693  260172.858025       0.292528   \n",
              "std        22.908507      15.943021   99151.009852       7.436924   \n",
              "min         0.000000       1.000000       8.000000       0.000000   \n",
              "25%         0.000000       8.000000  221452.000000       0.000000   \n",
              "50%         0.000000      10.000000  249799.500000       0.000000   \n",
              "75%         0.000000      12.000000  310266.000000       0.000000   \n",
              "max      1666.000000      98.000000  689161.000000     832.000000   \n",
              "\n",
              "          attribute8     attribute9  \n",
              "count  124494.000000  124494.000000  \n",
              "mean        0.292528      12.451524  \n",
              "std         7.436924     191.425623  \n",
              "min         0.000000       0.000000  \n",
              "25%         0.000000       0.000000  \n",
              "50%         0.000000       0.000000  \n",
              "75%         0.000000       0.000000  \n",
              "max       832.000000   18701.000000  "
            ],
            "text/html": [
              "\n",
              "  <div id=\"df-2aaca0b4-a7c5-4a83-a5bc-f9af63ab1f81\">\n",
              "    <div class=\"colab-df-container\">\n",
              "      <div>\n",
              "<style scoped>\n",
              "    .dataframe tbody tr th:only-of-type {\n",
              "        vertical-align: middle;\n",
              "    }\n",
              "\n",
              "    .dataframe tbody tr th {\n",
              "        vertical-align: top;\n",
              "    }\n",
              "\n",
              "    .dataframe thead th {\n",
              "        text-align: right;\n",
              "    }\n",
              "</style>\n",
              "<table border=\"1\" class=\"dataframe\">\n",
              "  <thead>\n",
              "    <tr style=\"text-align: right;\">\n",
              "      <th></th>\n",
              "      <th>failure</th>\n",
              "      <th>attribute1</th>\n",
              "      <th>attribute2</th>\n",
              "      <th>attribute3</th>\n",
              "      <th>attribute4</th>\n",
              "      <th>attribute5</th>\n",
              "      <th>attribute6</th>\n",
              "      <th>attribute7</th>\n",
              "      <th>attribute8</th>\n",
              "      <th>attribute9</th>\n",
              "    </tr>\n",
              "  </thead>\n",
              "  <tbody>\n",
              "    <tr>\n",
              "      <th>count</th>\n",
              "      <td>124494.000000</td>\n",
              "      <td>1.244940e+05</td>\n",
              "      <td>124494.000000</td>\n",
              "      <td>124494.000000</td>\n",
              "      <td>124494.000000</td>\n",
              "      <td>124494.000000</td>\n",
              "      <td>124494.000000</td>\n",
              "      <td>124494.000000</td>\n",
              "      <td>124494.000000</td>\n",
              "      <td>124494.000000</td>\n",
              "    </tr>\n",
              "    <tr>\n",
              "      <th>mean</th>\n",
              "      <td>0.000851</td>\n",
              "      <td>1.223868e+08</td>\n",
              "      <td>159.484762</td>\n",
              "      <td>9.940455</td>\n",
              "      <td>1.741120</td>\n",
              "      <td>14.222693</td>\n",
              "      <td>260172.858025</td>\n",
              "      <td>0.292528</td>\n",
              "      <td>0.292528</td>\n",
              "      <td>12.451524</td>\n",
              "    </tr>\n",
              "    <tr>\n",
              "      <th>std</th>\n",
              "      <td>0.029167</td>\n",
              "      <td>7.045960e+07</td>\n",
              "      <td>2179.657730</td>\n",
              "      <td>185.747321</td>\n",
              "      <td>22.908507</td>\n",
              "      <td>15.943021</td>\n",
              "      <td>99151.009852</td>\n",
              "      <td>7.436924</td>\n",
              "      <td>7.436924</td>\n",
              "      <td>191.425623</td>\n",
              "    </tr>\n",
              "    <tr>\n",
              "      <th>min</th>\n",
              "      <td>0.000000</td>\n",
              "      <td>0.000000e+00</td>\n",
              "      <td>0.000000</td>\n",
              "      <td>0.000000</td>\n",
              "      <td>0.000000</td>\n",
              "      <td>1.000000</td>\n",
              "      <td>8.000000</td>\n",
              "      <td>0.000000</td>\n",
              "      <td>0.000000</td>\n",
              "      <td>0.000000</td>\n",
              "    </tr>\n",
              "    <tr>\n",
              "      <th>25%</th>\n",
              "      <td>0.000000</td>\n",
              "      <td>6.127675e+07</td>\n",
              "      <td>0.000000</td>\n",
              "      <td>0.000000</td>\n",
              "      <td>0.000000</td>\n",
              "      <td>8.000000</td>\n",
              "      <td>221452.000000</td>\n",
              "      <td>0.000000</td>\n",
              "      <td>0.000000</td>\n",
              "      <td>0.000000</td>\n",
              "    </tr>\n",
              "    <tr>\n",
              "      <th>50%</th>\n",
              "      <td>0.000000</td>\n",
              "      <td>1.227957e+08</td>\n",
              "      <td>0.000000</td>\n",
              "      <td>0.000000</td>\n",
              "      <td>0.000000</td>\n",
              "      <td>10.000000</td>\n",
              "      <td>249799.500000</td>\n",
              "      <td>0.000000</td>\n",
              "      <td>0.000000</td>\n",
              "      <td>0.000000</td>\n",
              "    </tr>\n",
              "    <tr>\n",
              "      <th>75%</th>\n",
              "      <td>0.000000</td>\n",
              "      <td>1.833084e+08</td>\n",
              "      <td>0.000000</td>\n",
              "      <td>0.000000</td>\n",
              "      <td>0.000000</td>\n",
              "      <td>12.000000</td>\n",
              "      <td>310266.000000</td>\n",
              "      <td>0.000000</td>\n",
              "      <td>0.000000</td>\n",
              "      <td>0.000000</td>\n",
              "    </tr>\n",
              "    <tr>\n",
              "      <th>max</th>\n",
              "      <td>1.000000</td>\n",
              "      <td>2.441405e+08</td>\n",
              "      <td>64968.000000</td>\n",
              "      <td>24929.000000</td>\n",
              "      <td>1666.000000</td>\n",
              "      <td>98.000000</td>\n",
              "      <td>689161.000000</td>\n",
              "      <td>832.000000</td>\n",
              "      <td>832.000000</td>\n",
              "      <td>18701.000000</td>\n",
              "    </tr>\n",
              "  </tbody>\n",
              "</table>\n",
              "</div>\n",
              "      <button class=\"colab-df-convert\" onclick=\"convertToInteractive('df-2aaca0b4-a7c5-4a83-a5bc-f9af63ab1f81')\"\n",
              "              title=\"Convert this dataframe to an interactive table.\"\n",
              "              style=\"display:none;\">\n",
              "        \n",
              "  <svg xmlns=\"http://www.w3.org/2000/svg\" height=\"24px\"viewBox=\"0 0 24 24\"\n",
              "       width=\"24px\">\n",
              "    <path d=\"M0 0h24v24H0V0z\" fill=\"none\"/>\n",
              "    <path d=\"M18.56 5.44l.94 2.06.94-2.06 2.06-.94-2.06-.94-.94-2.06-.94 2.06-2.06.94zm-11 1L8.5 8.5l.94-2.06 2.06-.94-2.06-.94L8.5 2.5l-.94 2.06-2.06.94zm10 10l.94 2.06.94-2.06 2.06-.94-2.06-.94-.94-2.06-.94 2.06-2.06.94z\"/><path d=\"M17.41 7.96l-1.37-1.37c-.4-.4-.92-.59-1.43-.59-.52 0-1.04.2-1.43.59L10.3 9.45l-7.72 7.72c-.78.78-.78 2.05 0 2.83L4 21.41c.39.39.9.59 1.41.59.51 0 1.02-.2 1.41-.59l7.78-7.78 2.81-2.81c.8-.78.8-2.07 0-2.86zM5.41 20L4 18.59l7.72-7.72 1.47 1.35L5.41 20z\"/>\n",
              "  </svg>\n",
              "      </button>\n",
              "      \n",
              "  <style>\n",
              "    .colab-df-container {\n",
              "      display:flex;\n",
              "      flex-wrap:wrap;\n",
              "      gap: 12px;\n",
              "    }\n",
              "\n",
              "    .colab-df-convert {\n",
              "      background-color: #E8F0FE;\n",
              "      border: none;\n",
              "      border-radius: 50%;\n",
              "      cursor: pointer;\n",
              "      display: none;\n",
              "      fill: #1967D2;\n",
              "      height: 32px;\n",
              "      padding: 0 0 0 0;\n",
              "      width: 32px;\n",
              "    }\n",
              "\n",
              "    .colab-df-convert:hover {\n",
              "      background-color: #E2EBFA;\n",
              "      box-shadow: 0px 1px 2px rgba(60, 64, 67, 0.3), 0px 1px 3px 1px rgba(60, 64, 67, 0.15);\n",
              "      fill: #174EA6;\n",
              "    }\n",
              "\n",
              "    [theme=dark] .colab-df-convert {\n",
              "      background-color: #3B4455;\n",
              "      fill: #D2E3FC;\n",
              "    }\n",
              "\n",
              "    [theme=dark] .colab-df-convert:hover {\n",
              "      background-color: #434B5C;\n",
              "      box-shadow: 0px 1px 3px 1px rgba(0, 0, 0, 0.15);\n",
              "      filter: drop-shadow(0px 1px 2px rgba(0, 0, 0, 0.3));\n",
              "      fill: #FFFFFF;\n",
              "    }\n",
              "  </style>\n",
              "\n",
              "      <script>\n",
              "        const buttonEl =\n",
              "          document.querySelector('#df-2aaca0b4-a7c5-4a83-a5bc-f9af63ab1f81 button.colab-df-convert');\n",
              "        buttonEl.style.display =\n",
              "          google.colab.kernel.accessAllowed ? 'block' : 'none';\n",
              "\n",
              "        async function convertToInteractive(key) {\n",
              "          const element = document.querySelector('#df-2aaca0b4-a7c5-4a83-a5bc-f9af63ab1f81');\n",
              "          const dataTable =\n",
              "            await google.colab.kernel.invokeFunction('convertToInteractive',\n",
              "                                                     [key], {});\n",
              "          if (!dataTable) return;\n",
              "\n",
              "          const docLinkHtml = 'Like what you see? Visit the ' +\n",
              "            '<a target=\"_blank\" href=https://colab.research.google.com/notebooks/data_table.ipynb>data table notebook</a>'\n",
              "            + ' to learn more about interactive tables.';\n",
              "          element.innerHTML = '';\n",
              "          dataTable['output_type'] = 'display_data';\n",
              "          await google.colab.output.renderOutput(dataTable, element);\n",
              "          const docLink = document.createElement('div');\n",
              "          docLink.innerHTML = docLinkHtml;\n",
              "          element.appendChild(docLink);\n",
              "        }\n",
              "      </script>\n",
              "    </div>\n",
              "  </div>\n",
              "  "
            ]
          },
          "metadata": {},
          "execution_count": 9
        }
      ],
      "source": [
        "df.describe()"
      ]
    },
    {
      "cell_type": "code",
      "execution_count": 10,
      "id": "8d067357",
      "metadata": {
        "colab": {
          "base_uri": "https://localhost:8080/",
          "height": 363
        },
        "id": "8d067357",
        "outputId": "2e01567e-3fcb-4ec7-e4f9-0c8d2d65fc8c"
      },
      "outputs": [
        {
          "output_type": "execute_result",
          "data": {
            "text/plain": [
              "             failure  attribute1  attribute2  attribute3  attribute4  \\\n",
              "failure     1.000000    0.001984    0.052902   -0.000948    0.067398   \n",
              "attribute1  0.001984    1.000000   -0.004248    0.003702    0.001837   \n",
              "attribute2  0.052902   -0.004248    1.000000   -0.002617    0.146593   \n",
              "attribute3 -0.000948    0.003702   -0.002617    1.000000    0.097452   \n",
              "attribute4  0.067398    0.001837    0.146593    0.097452    1.000000   \n",
              "attribute5  0.002270   -0.003370   -0.013999   -0.006696   -0.009773   \n",
              "attribute6 -0.000550   -0.001516   -0.026350    0.009027    0.024870   \n",
              "attribute7  0.119055    0.000151    0.141367   -0.001884    0.045631   \n",
              "attribute8  0.119055    0.000151    0.141367   -0.001884    0.045631   \n",
              "attribute9  0.001622    0.001122   -0.002736    0.532366    0.036069   \n",
              "\n",
              "            attribute5  attribute6  attribute7  attribute8  attribute9  \n",
              "failure       0.002270   -0.000550    0.119055    0.119055    0.001622  \n",
              "attribute1   -0.003370   -0.001516    0.000151    0.000151    0.001122  \n",
              "attribute2   -0.013999   -0.026350    0.141367    0.141367   -0.002736  \n",
              "attribute3   -0.006696    0.009027   -0.001884   -0.001884    0.532366  \n",
              "attribute4   -0.009773    0.024870    0.045631    0.045631    0.036069  \n",
              "attribute5    1.000000   -0.017051   -0.009384   -0.009384    0.005949  \n",
              "attribute6   -0.017051    1.000000   -0.012207   -0.012207    0.021152  \n",
              "attribute7   -0.009384   -0.012207    1.000000    1.000000    0.006861  \n",
              "attribute8   -0.009384   -0.012207    1.000000    1.000000    0.006861  \n",
              "attribute9    0.005949    0.021152    0.006861    0.006861    1.000000  "
            ],
            "text/html": [
              "\n",
              "  <div id=\"df-deb60aa3-b82b-404e-ba6a-8d1b2c093a77\">\n",
              "    <div class=\"colab-df-container\">\n",
              "      <div>\n",
              "<style scoped>\n",
              "    .dataframe tbody tr th:only-of-type {\n",
              "        vertical-align: middle;\n",
              "    }\n",
              "\n",
              "    .dataframe tbody tr th {\n",
              "        vertical-align: top;\n",
              "    }\n",
              "\n",
              "    .dataframe thead th {\n",
              "        text-align: right;\n",
              "    }\n",
              "</style>\n",
              "<table border=\"1\" class=\"dataframe\">\n",
              "  <thead>\n",
              "    <tr style=\"text-align: right;\">\n",
              "      <th></th>\n",
              "      <th>failure</th>\n",
              "      <th>attribute1</th>\n",
              "      <th>attribute2</th>\n",
              "      <th>attribute3</th>\n",
              "      <th>attribute4</th>\n",
              "      <th>attribute5</th>\n",
              "      <th>attribute6</th>\n",
              "      <th>attribute7</th>\n",
              "      <th>attribute8</th>\n",
              "      <th>attribute9</th>\n",
              "    </tr>\n",
              "  </thead>\n",
              "  <tbody>\n",
              "    <tr>\n",
              "      <th>failure</th>\n",
              "      <td>1.000000</td>\n",
              "      <td>0.001984</td>\n",
              "      <td>0.052902</td>\n",
              "      <td>-0.000948</td>\n",
              "      <td>0.067398</td>\n",
              "      <td>0.002270</td>\n",
              "      <td>-0.000550</td>\n",
              "      <td>0.119055</td>\n",
              "      <td>0.119055</td>\n",
              "      <td>0.001622</td>\n",
              "    </tr>\n",
              "    <tr>\n",
              "      <th>attribute1</th>\n",
              "      <td>0.001984</td>\n",
              "      <td>1.000000</td>\n",
              "      <td>-0.004248</td>\n",
              "      <td>0.003702</td>\n",
              "      <td>0.001837</td>\n",
              "      <td>-0.003370</td>\n",
              "      <td>-0.001516</td>\n",
              "      <td>0.000151</td>\n",
              "      <td>0.000151</td>\n",
              "      <td>0.001122</td>\n",
              "    </tr>\n",
              "    <tr>\n",
              "      <th>attribute2</th>\n",
              "      <td>0.052902</td>\n",
              "      <td>-0.004248</td>\n",
              "      <td>1.000000</td>\n",
              "      <td>-0.002617</td>\n",
              "      <td>0.146593</td>\n",
              "      <td>-0.013999</td>\n",
              "      <td>-0.026350</td>\n",
              "      <td>0.141367</td>\n",
              "      <td>0.141367</td>\n",
              "      <td>-0.002736</td>\n",
              "    </tr>\n",
              "    <tr>\n",
              "      <th>attribute3</th>\n",
              "      <td>-0.000948</td>\n",
              "      <td>0.003702</td>\n",
              "      <td>-0.002617</td>\n",
              "      <td>1.000000</td>\n",
              "      <td>0.097452</td>\n",
              "      <td>-0.006696</td>\n",
              "      <td>0.009027</td>\n",
              "      <td>-0.001884</td>\n",
              "      <td>-0.001884</td>\n",
              "      <td>0.532366</td>\n",
              "    </tr>\n",
              "    <tr>\n",
              "      <th>attribute4</th>\n",
              "      <td>0.067398</td>\n",
              "      <td>0.001837</td>\n",
              "      <td>0.146593</td>\n",
              "      <td>0.097452</td>\n",
              "      <td>1.000000</td>\n",
              "      <td>-0.009773</td>\n",
              "      <td>0.024870</td>\n",
              "      <td>0.045631</td>\n",
              "      <td>0.045631</td>\n",
              "      <td>0.036069</td>\n",
              "    </tr>\n",
              "    <tr>\n",
              "      <th>attribute5</th>\n",
              "      <td>0.002270</td>\n",
              "      <td>-0.003370</td>\n",
              "      <td>-0.013999</td>\n",
              "      <td>-0.006696</td>\n",
              "      <td>-0.009773</td>\n",
              "      <td>1.000000</td>\n",
              "      <td>-0.017051</td>\n",
              "      <td>-0.009384</td>\n",
              "      <td>-0.009384</td>\n",
              "      <td>0.005949</td>\n",
              "    </tr>\n",
              "    <tr>\n",
              "      <th>attribute6</th>\n",
              "      <td>-0.000550</td>\n",
              "      <td>-0.001516</td>\n",
              "      <td>-0.026350</td>\n",
              "      <td>0.009027</td>\n",
              "      <td>0.024870</td>\n",
              "      <td>-0.017051</td>\n",
              "      <td>1.000000</td>\n",
              "      <td>-0.012207</td>\n",
              "      <td>-0.012207</td>\n",
              "      <td>0.021152</td>\n",
              "    </tr>\n",
              "    <tr>\n",
              "      <th>attribute7</th>\n",
              "      <td>0.119055</td>\n",
              "      <td>0.000151</td>\n",
              "      <td>0.141367</td>\n",
              "      <td>-0.001884</td>\n",
              "      <td>0.045631</td>\n",
              "      <td>-0.009384</td>\n",
              "      <td>-0.012207</td>\n",
              "      <td>1.000000</td>\n",
              "      <td>1.000000</td>\n",
              "      <td>0.006861</td>\n",
              "    </tr>\n",
              "    <tr>\n",
              "      <th>attribute8</th>\n",
              "      <td>0.119055</td>\n",
              "      <td>0.000151</td>\n",
              "      <td>0.141367</td>\n",
              "      <td>-0.001884</td>\n",
              "      <td>0.045631</td>\n",
              "      <td>-0.009384</td>\n",
              "      <td>-0.012207</td>\n",
              "      <td>1.000000</td>\n",
              "      <td>1.000000</td>\n",
              "      <td>0.006861</td>\n",
              "    </tr>\n",
              "    <tr>\n",
              "      <th>attribute9</th>\n",
              "      <td>0.001622</td>\n",
              "      <td>0.001122</td>\n",
              "      <td>-0.002736</td>\n",
              "      <td>0.532366</td>\n",
              "      <td>0.036069</td>\n",
              "      <td>0.005949</td>\n",
              "      <td>0.021152</td>\n",
              "      <td>0.006861</td>\n",
              "      <td>0.006861</td>\n",
              "      <td>1.000000</td>\n",
              "    </tr>\n",
              "  </tbody>\n",
              "</table>\n",
              "</div>\n",
              "      <button class=\"colab-df-convert\" onclick=\"convertToInteractive('df-deb60aa3-b82b-404e-ba6a-8d1b2c093a77')\"\n",
              "              title=\"Convert this dataframe to an interactive table.\"\n",
              "              style=\"display:none;\">\n",
              "        \n",
              "  <svg xmlns=\"http://www.w3.org/2000/svg\" height=\"24px\"viewBox=\"0 0 24 24\"\n",
              "       width=\"24px\">\n",
              "    <path d=\"M0 0h24v24H0V0z\" fill=\"none\"/>\n",
              "    <path d=\"M18.56 5.44l.94 2.06.94-2.06 2.06-.94-2.06-.94-.94-2.06-.94 2.06-2.06.94zm-11 1L8.5 8.5l.94-2.06 2.06-.94-2.06-.94L8.5 2.5l-.94 2.06-2.06.94zm10 10l.94 2.06.94-2.06 2.06-.94-2.06-.94-.94-2.06-.94 2.06-2.06.94z\"/><path d=\"M17.41 7.96l-1.37-1.37c-.4-.4-.92-.59-1.43-.59-.52 0-1.04.2-1.43.59L10.3 9.45l-7.72 7.72c-.78.78-.78 2.05 0 2.83L4 21.41c.39.39.9.59 1.41.59.51 0 1.02-.2 1.41-.59l7.78-7.78 2.81-2.81c.8-.78.8-2.07 0-2.86zM5.41 20L4 18.59l7.72-7.72 1.47 1.35L5.41 20z\"/>\n",
              "  </svg>\n",
              "      </button>\n",
              "      \n",
              "  <style>\n",
              "    .colab-df-container {\n",
              "      display:flex;\n",
              "      flex-wrap:wrap;\n",
              "      gap: 12px;\n",
              "    }\n",
              "\n",
              "    .colab-df-convert {\n",
              "      background-color: #E8F0FE;\n",
              "      border: none;\n",
              "      border-radius: 50%;\n",
              "      cursor: pointer;\n",
              "      display: none;\n",
              "      fill: #1967D2;\n",
              "      height: 32px;\n",
              "      padding: 0 0 0 0;\n",
              "      width: 32px;\n",
              "    }\n",
              "\n",
              "    .colab-df-convert:hover {\n",
              "      background-color: #E2EBFA;\n",
              "      box-shadow: 0px 1px 2px rgba(60, 64, 67, 0.3), 0px 1px 3px 1px rgba(60, 64, 67, 0.15);\n",
              "      fill: #174EA6;\n",
              "    }\n",
              "\n",
              "    [theme=dark] .colab-df-convert {\n",
              "      background-color: #3B4455;\n",
              "      fill: #D2E3FC;\n",
              "    }\n",
              "\n",
              "    [theme=dark] .colab-df-convert:hover {\n",
              "      background-color: #434B5C;\n",
              "      box-shadow: 0px 1px 3px 1px rgba(0, 0, 0, 0.15);\n",
              "      filter: drop-shadow(0px 1px 2px rgba(0, 0, 0, 0.3));\n",
              "      fill: #FFFFFF;\n",
              "    }\n",
              "  </style>\n",
              "\n",
              "      <script>\n",
              "        const buttonEl =\n",
              "          document.querySelector('#df-deb60aa3-b82b-404e-ba6a-8d1b2c093a77 button.colab-df-convert');\n",
              "        buttonEl.style.display =\n",
              "          google.colab.kernel.accessAllowed ? 'block' : 'none';\n",
              "\n",
              "        async function convertToInteractive(key) {\n",
              "          const element = document.querySelector('#df-deb60aa3-b82b-404e-ba6a-8d1b2c093a77');\n",
              "          const dataTable =\n",
              "            await google.colab.kernel.invokeFunction('convertToInteractive',\n",
              "                                                     [key], {});\n",
              "          if (!dataTable) return;\n",
              "\n",
              "          const docLinkHtml = 'Like what you see? Visit the ' +\n",
              "            '<a target=\"_blank\" href=https://colab.research.google.com/notebooks/data_table.ipynb>data table notebook</a>'\n",
              "            + ' to learn more about interactive tables.';\n",
              "          element.innerHTML = '';\n",
              "          dataTable['output_type'] = 'display_data';\n",
              "          await google.colab.output.renderOutput(dataTable, element);\n",
              "          const docLink = document.createElement('div');\n",
              "          docLink.innerHTML = docLinkHtml;\n",
              "          element.appendChild(docLink);\n",
              "        }\n",
              "      </script>\n",
              "    </div>\n",
              "  </div>\n",
              "  "
            ]
          },
          "metadata": {},
          "execution_count": 10
        }
      ],
      "source": [
        "df.corr()"
      ]
    },
    {
      "cell_type": "markdown",
      "id": "4aca9891",
      "metadata": {
        "id": "4aca9891"
      },
      "source": [
        "## FEATURE ENGINEERING & DATA VISUALIZATIONS"
      ]
    },
    {
      "cell_type": "code",
      "execution_count": 11,
      "id": "b4dcb0d1",
      "metadata": {
        "id": "b4dcb0d1"
      },
      "outputs": [],
      "source": [
        "df.loc[:,'date']=pd.to_datetime(df.loc[:,\"date\"].astype(str),format=\"%Y-%m-%d\")"
      ]
    },
    {
      "cell_type": "code",
      "execution_count": 12,
      "id": "5b3273aa",
      "metadata": {
        "id": "5b3273aa"
      },
      "outputs": [],
      "source": [
        "df['day']=df['date'].dt.day"
      ]
    },
    {
      "cell_type": "code",
      "execution_count": 13,
      "id": "273df3ce",
      "metadata": {
        "id": "273df3ce"
      },
      "outputs": [],
      "source": [
        "df['month']=df['date'].dt.month"
      ]
    },
    {
      "cell_type": "code",
      "execution_count": 14,
      "id": "ebaebc19",
      "metadata": {
        "id": "ebaebc19"
      },
      "outputs": [],
      "source": [
        "df['year']=df['date'].dt.year"
      ]
    },
    {
      "cell_type": "code",
      "execution_count": 15,
      "id": "51905536",
      "metadata": {
        "id": "51905536"
      },
      "outputs": [],
      "source": [
        "df=df.drop('date',axis=1)"
      ]
    },
    {
      "cell_type": "code",
      "execution_count": 16,
      "id": "9d7c11e1",
      "metadata": {
        "colab": {
          "base_uri": "https://localhost:8080/",
          "height": 237
        },
        "id": "9d7c11e1",
        "outputId": "73f691f9-c79b-4a85-98bb-12ce785975e7"
      },
      "outputs": [
        {
          "output_type": "execute_result",
          "data": {
            "text/plain": [
              "         device  failure  attribute1  attribute2  attribute3  attribute4  \\\n",
              "8431   S1F0C95J        0    57985616           0           0           0   \n",
              "64648  W1F0Z3KR        0   126024288           0           0           1   \n",
              "59112  W1F0X6VJ        0    52074280           0           0           0   \n",
              "27801  Z1F0MA1S        0    14923120           0           0           0   \n",
              "12236  S1F0GQCL        0    19151144           0           0           0   \n",
              "57062  W1F0TJ66        0    52589928           0           0           0   \n",
              "\n",
              "       attribute5  attribute6  attribute7  attribute8  attribute9  day  month  \\\n",
              "8431            5      239242           0           0           0    9      1   \n",
              "64648           8      132252           0           0           0    1      4   \n",
              "59112           7      244430           0           0           0   22      3   \n",
              "27801           8      224415           0           0           0    4      2   \n",
              "12236          92      231440           0           0           0   14      1   \n",
              "57062          90      239989           0           0           0   19      3   \n",
              "\n",
              "       year  \n",
              "8431   2015  \n",
              "64648  2015  \n",
              "59112  2015  \n",
              "27801  2015  \n",
              "12236  2015  \n",
              "57062  2015  "
            ],
            "text/html": [
              "\n",
              "  <div id=\"df-22959ab3-e3ab-4817-825e-30d85315499a\">\n",
              "    <div class=\"colab-df-container\">\n",
              "      <div>\n",
              "<style scoped>\n",
              "    .dataframe tbody tr th:only-of-type {\n",
              "        vertical-align: middle;\n",
              "    }\n",
              "\n",
              "    .dataframe tbody tr th {\n",
              "        vertical-align: top;\n",
              "    }\n",
              "\n",
              "    .dataframe thead th {\n",
              "        text-align: right;\n",
              "    }\n",
              "</style>\n",
              "<table border=\"1\" class=\"dataframe\">\n",
              "  <thead>\n",
              "    <tr style=\"text-align: right;\">\n",
              "      <th></th>\n",
              "      <th>device</th>\n",
              "      <th>failure</th>\n",
              "      <th>attribute1</th>\n",
              "      <th>attribute2</th>\n",
              "      <th>attribute3</th>\n",
              "      <th>attribute4</th>\n",
              "      <th>attribute5</th>\n",
              "      <th>attribute6</th>\n",
              "      <th>attribute7</th>\n",
              "      <th>attribute8</th>\n",
              "      <th>attribute9</th>\n",
              "      <th>day</th>\n",
              "      <th>month</th>\n",
              "      <th>year</th>\n",
              "    </tr>\n",
              "  </thead>\n",
              "  <tbody>\n",
              "    <tr>\n",
              "      <th>8431</th>\n",
              "      <td>S1F0C95J</td>\n",
              "      <td>0</td>\n",
              "      <td>57985616</td>\n",
              "      <td>0</td>\n",
              "      <td>0</td>\n",
              "      <td>0</td>\n",
              "      <td>5</td>\n",
              "      <td>239242</td>\n",
              "      <td>0</td>\n",
              "      <td>0</td>\n",
              "      <td>0</td>\n",
              "      <td>9</td>\n",
              "      <td>1</td>\n",
              "      <td>2015</td>\n",
              "    </tr>\n",
              "    <tr>\n",
              "      <th>64648</th>\n",
              "      <td>W1F0Z3KR</td>\n",
              "      <td>0</td>\n",
              "      <td>126024288</td>\n",
              "      <td>0</td>\n",
              "      <td>0</td>\n",
              "      <td>1</td>\n",
              "      <td>8</td>\n",
              "      <td>132252</td>\n",
              "      <td>0</td>\n",
              "      <td>0</td>\n",
              "      <td>0</td>\n",
              "      <td>1</td>\n",
              "      <td>4</td>\n",
              "      <td>2015</td>\n",
              "    </tr>\n",
              "    <tr>\n",
              "      <th>59112</th>\n",
              "      <td>W1F0X6VJ</td>\n",
              "      <td>0</td>\n",
              "      <td>52074280</td>\n",
              "      <td>0</td>\n",
              "      <td>0</td>\n",
              "      <td>0</td>\n",
              "      <td>7</td>\n",
              "      <td>244430</td>\n",
              "      <td>0</td>\n",
              "      <td>0</td>\n",
              "      <td>0</td>\n",
              "      <td>22</td>\n",
              "      <td>3</td>\n",
              "      <td>2015</td>\n",
              "    </tr>\n",
              "    <tr>\n",
              "      <th>27801</th>\n",
              "      <td>Z1F0MA1S</td>\n",
              "      <td>0</td>\n",
              "      <td>14923120</td>\n",
              "      <td>0</td>\n",
              "      <td>0</td>\n",
              "      <td>0</td>\n",
              "      <td>8</td>\n",
              "      <td>224415</td>\n",
              "      <td>0</td>\n",
              "      <td>0</td>\n",
              "      <td>0</td>\n",
              "      <td>4</td>\n",
              "      <td>2</td>\n",
              "      <td>2015</td>\n",
              "    </tr>\n",
              "    <tr>\n",
              "      <th>12236</th>\n",
              "      <td>S1F0GQCL</td>\n",
              "      <td>0</td>\n",
              "      <td>19151144</td>\n",
              "      <td>0</td>\n",
              "      <td>0</td>\n",
              "      <td>0</td>\n",
              "      <td>92</td>\n",
              "      <td>231440</td>\n",
              "      <td>0</td>\n",
              "      <td>0</td>\n",
              "      <td>0</td>\n",
              "      <td>14</td>\n",
              "      <td>1</td>\n",
              "      <td>2015</td>\n",
              "    </tr>\n",
              "    <tr>\n",
              "      <th>57062</th>\n",
              "      <td>W1F0TJ66</td>\n",
              "      <td>0</td>\n",
              "      <td>52589928</td>\n",
              "      <td>0</td>\n",
              "      <td>0</td>\n",
              "      <td>0</td>\n",
              "      <td>90</td>\n",
              "      <td>239989</td>\n",
              "      <td>0</td>\n",
              "      <td>0</td>\n",
              "      <td>0</td>\n",
              "      <td>19</td>\n",
              "      <td>3</td>\n",
              "      <td>2015</td>\n",
              "    </tr>\n",
              "  </tbody>\n",
              "</table>\n",
              "</div>\n",
              "      <button class=\"colab-df-convert\" onclick=\"convertToInteractive('df-22959ab3-e3ab-4817-825e-30d85315499a')\"\n",
              "              title=\"Convert this dataframe to an interactive table.\"\n",
              "              style=\"display:none;\">\n",
              "        \n",
              "  <svg xmlns=\"http://www.w3.org/2000/svg\" height=\"24px\"viewBox=\"0 0 24 24\"\n",
              "       width=\"24px\">\n",
              "    <path d=\"M0 0h24v24H0V0z\" fill=\"none\"/>\n",
              "    <path d=\"M18.56 5.44l.94 2.06.94-2.06 2.06-.94-2.06-.94-.94-2.06-.94 2.06-2.06.94zm-11 1L8.5 8.5l.94-2.06 2.06-.94-2.06-.94L8.5 2.5l-.94 2.06-2.06.94zm10 10l.94 2.06.94-2.06 2.06-.94-2.06-.94-.94-2.06-.94 2.06-2.06.94z\"/><path d=\"M17.41 7.96l-1.37-1.37c-.4-.4-.92-.59-1.43-.59-.52 0-1.04.2-1.43.59L10.3 9.45l-7.72 7.72c-.78.78-.78 2.05 0 2.83L4 21.41c.39.39.9.59 1.41.59.51 0 1.02-.2 1.41-.59l7.78-7.78 2.81-2.81c.8-.78.8-2.07 0-2.86zM5.41 20L4 18.59l7.72-7.72 1.47 1.35L5.41 20z\"/>\n",
              "  </svg>\n",
              "      </button>\n",
              "      \n",
              "  <style>\n",
              "    .colab-df-container {\n",
              "      display:flex;\n",
              "      flex-wrap:wrap;\n",
              "      gap: 12px;\n",
              "    }\n",
              "\n",
              "    .colab-df-convert {\n",
              "      background-color: #E8F0FE;\n",
              "      border: none;\n",
              "      border-radius: 50%;\n",
              "      cursor: pointer;\n",
              "      display: none;\n",
              "      fill: #1967D2;\n",
              "      height: 32px;\n",
              "      padding: 0 0 0 0;\n",
              "      width: 32px;\n",
              "    }\n",
              "\n",
              "    .colab-df-convert:hover {\n",
              "      background-color: #E2EBFA;\n",
              "      box-shadow: 0px 1px 2px rgba(60, 64, 67, 0.3), 0px 1px 3px 1px rgba(60, 64, 67, 0.15);\n",
              "      fill: #174EA6;\n",
              "    }\n",
              "\n",
              "    [theme=dark] .colab-df-convert {\n",
              "      background-color: #3B4455;\n",
              "      fill: #D2E3FC;\n",
              "    }\n",
              "\n",
              "    [theme=dark] .colab-df-convert:hover {\n",
              "      background-color: #434B5C;\n",
              "      box-shadow: 0px 1px 3px 1px rgba(0, 0, 0, 0.15);\n",
              "      filter: drop-shadow(0px 1px 2px rgba(0, 0, 0, 0.3));\n",
              "      fill: #FFFFFF;\n",
              "    }\n",
              "  </style>\n",
              "\n",
              "      <script>\n",
              "        const buttonEl =\n",
              "          document.querySelector('#df-22959ab3-e3ab-4817-825e-30d85315499a button.colab-df-convert');\n",
              "        buttonEl.style.display =\n",
              "          google.colab.kernel.accessAllowed ? 'block' : 'none';\n",
              "\n",
              "        async function convertToInteractive(key) {\n",
              "          const element = document.querySelector('#df-22959ab3-e3ab-4817-825e-30d85315499a');\n",
              "          const dataTable =\n",
              "            await google.colab.kernel.invokeFunction('convertToInteractive',\n",
              "                                                     [key], {});\n",
              "          if (!dataTable) return;\n",
              "\n",
              "          const docLinkHtml = 'Like what you see? Visit the ' +\n",
              "            '<a target=\"_blank\" href=https://colab.research.google.com/notebooks/data_table.ipynb>data table notebook</a>'\n",
              "            + ' to learn more about interactive tables.';\n",
              "          element.innerHTML = '';\n",
              "          dataTable['output_type'] = 'display_data';\n",
              "          await google.colab.output.renderOutput(dataTable, element);\n",
              "          const docLink = document.createElement('div');\n",
              "          docLink.innerHTML = docLinkHtml;\n",
              "          element.appendChild(docLink);\n",
              "        }\n",
              "      </script>\n",
              "    </div>\n",
              "  </div>\n",
              "  "
            ]
          },
          "metadata": {},
          "execution_count": 16
        }
      ],
      "source": [
        "df.sample(6)"
      ]
    },
    {
      "cell_type": "code",
      "execution_count": 17,
      "id": "149ce8c8",
      "metadata": {
        "colab": {
          "base_uri": "https://localhost:8080/",
          "height": 297
        },
        "id": "149ce8c8",
        "outputId": "56d80841-fb89-4847-bcee-1999e5701a4d"
      },
      "outputs": [
        {
          "output_type": "execute_result",
          "data": {
            "text/plain": [
              "<matplotlib.axes._subplots.AxesSubplot at 0x7fd2743ef190>"
            ]
          },
          "metadata": {},
          "execution_count": 17
        },
        {
          "output_type": "display_data",
          "data": {
            "text/plain": [
              "<Figure size 432x288 with 1 Axes>"
            ],
            "image/png": "[encoded data removed]"
          },
          "metadata": {
            "needs_background": "light"
          }
        }
      ],
      "source": [
        "df.groupby('month')['failure'].mean().plot()"
      ]
    },
    {
      "cell_type": "code",
      "execution_count": 18,
      "id": "603bad3b",
      "metadata": {
        "colab": {
          "base_uri": "https://localhost:8080/",
          "height": 297
        },
        "id": "603bad3b",
        "outputId": "fdbfbbf3-cbae-4ce2-8850-fd72d11f42aa"
      },
      "outputs": [
        {
          "output_type": "execute_result",
          "data": {
            "text/plain": [
              "<matplotlib.axes._subplots.AxesSubplot at 0x7fd274324a00>"
            ]
          },
          "metadata": {},
          "execution_count": 18
        },
        {
          "output_type": "display_data",
          "data": {
            "text/plain": [
              "<Figure size 432x288 with 1 Axes>"
            ],
            "image/png": "[encoded data removed]"
          },
          "metadata": {
            "needs_background": "light"
          }
        }
      ],
      "source": [
        "df.groupby('day')['failure'].mean().plot()"
      ]
    },
    {
      "cell_type": "code",
      "execution_count": 19,
      "id": "94953695",
      "metadata": {
        "colab": {
          "base_uri": "https://localhost:8080/",
          "height": 297
        },
        "id": "94953695",
        "outputId": "8146f9cf-1edb-4825-e19a-ab770581394f"
      },
      "outputs": [
        {
          "output_type": "execute_result",
          "data": {
            "text/plain": [
              "<matplotlib.axes._subplots.AxesSubplot at 0x7fd273e5d190>"
            ]
          },
          "metadata": {},
          "execution_count": 19
        },
        {
          "output_type": "display_data",
          "data": {
            "text/plain": [
              "<Figure size 432x288 with 1 Axes>"
            ],
            "image/png": "[encoded data removed]"
          },
          "metadata": {
            "needs_background": "light"
          }
        }
      ],
      "source": [
        "df.groupby('year')['failure'].mean().plot()"
      ]
    },
    {
      "cell_type": "code",
      "execution_count": 20,
      "id": "9868d2e5",
      "metadata": {
        "colab": {
          "base_uri": "https://localhost:8080/",
          "height": 578
        },
        "id": "9868d2e5",
        "outputId": "11fff9cb-510e-4d1b-ed36-e56bd68ce759"
      },
      "outputs": [
        {
          "output_type": "error",
          "ename": "AttributeError",
          "evalue": "ignored",
          "traceback": [
            "\u001b[0;31m---------------------------------------------------------------------------\u001b[0m",
            "\u001b[0;31mAttributeError\u001b[0m                            Traceback (most recent call last)",
            "\u001b[0;32m<ipython-input-20-b328db5792fc>\u001b[0m in \u001b[0;36m<module>\u001b[0;34m\u001b[0m\n\u001b[1;32m      1\u001b[0m \u001b[0mplt\u001b[0m\u001b[0;34m.\u001b[0m\u001b[0mfigure\u001b[0m\u001b[0;34m(\u001b[0m\u001b[0mfigsize\u001b[0m\u001b[0;34m=\u001b[0m\u001b[0;34m(\u001b[0m\u001b[0;36m8\u001b[0m\u001b[0;34m,\u001b[0m\u001b[0;36m6\u001b[0m\u001b[0;34m)\u001b[0m\u001b[0;34m)\u001b[0m\u001b[0;34m\u001b[0m\u001b[0;34m\u001b[0m\u001b[0m\n\u001b[1;32m      2\u001b[0m \u001b[0max\u001b[0m\u001b[0;34m=\u001b[0m\u001b[0msns\u001b[0m\u001b[0;34m.\u001b[0m\u001b[0mcountplot\u001b[0m\u001b[0;34m(\u001b[0m\u001b[0mdf\u001b[0m\u001b[0;34m[\u001b[0m\u001b[0;34m\"failure\"\u001b[0m\u001b[0;34m]\u001b[0m\u001b[0;34m)\u001b[0m\u001b[0;34m;\u001b[0m\u001b[0;34m\u001b[0m\u001b[0;34m\u001b[0m\u001b[0m\n\u001b[0;32m----> 3\u001b[0;31m \u001b[0max\u001b[0m\u001b[0;34m.\u001b[0m\u001b[0mbar_label\u001b[0m\u001b[0;34m(\u001b[0m\u001b[0max\u001b[0m\u001b[0;34m.\u001b[0m\u001b[0mcontainers\u001b[0m\u001b[0;34m[\u001b[0m\u001b[0;36m0\u001b[0m\u001b[0;34m]\u001b[0m\u001b[0;34m)\u001b[0m\u001b[0;34m;\u001b[0m\u001b[0;34m\u001b[0m\u001b[0;34m\u001b[0m\u001b[0m\n\u001b[0m",
            "\u001b[0;31mAttributeError\u001b[0m: 'AxesSubplot' object has no attribute 'bar_label'"
          ]
        },
        {
          "output_type": "display_data",
          "data": {
            "text/plain": [
              "<Figure size 576x432 with 1 Axes>"
            ],
            "image/png": "[encoded data removed]"
          },
          "metadata": {
            "needs_background": "light"
          }
        }
      ],
      "source": [
        "plt.figure(figsize=(8,6))\n",
        "ax=sns.countplot(df[\"failure\"]);\n",
        "ax.bar_label(ax.containers[0]);"
      ]
    },
    {
      "cell_type": "markdown",
      "id": "62d940e3",
      "metadata": {
        "id": "62d940e3"
      },
      "source": [
        "## CLASSIFICATION"
      ]
    },
    {
      "cell_type": "code",
      "execution_count": 21,
      "id": "bf199dcb",
      "metadata": {
        "id": "bf199dcb"
      },
      "outputs": [],
      "source": [
        "x=df.drop('failure',axis=1)"
      ]
    },
    {
      "cell_type": "code",
      "execution_count": 22,
      "id": "59fad32c",
      "metadata": {
        "id": "59fad32c"
      },
      "outputs": [],
      "source": [
        "y=df['failure']"
      ]
    },
    {
      "cell_type": "code",
      "execution_count": 23,
      "id": "0a4cbcd4",
      "metadata": {
        "id": "0a4cbcd4"
      },
      "outputs": [],
      "source": [
        "x=pd.get_dummies(x,drop_first=True)"
      ]
    },
    {
      "cell_type": "code",
      "execution_count": 24,
      "id": "fb550b0e",
      "metadata": {
        "id": "fb550b0e"
      },
      "outputs": [],
      "source": [
        "from sklearn.naive_bayes import GaussianNB\n",
        "from sklearn.naive_bayes import BernoulliNB\n",
        "from sklearn.metrics import accuracy_score,precision_score,recall_score,f1_score,confusion_matrix,classification_report\n",
        "from sklearn.neighbors import KNeighborsClassifier\n",
        "from sklearn.ensemble import RandomForestClassifier\n",
        "from sklearn.ensemble import GradientBoostingClassifier\n",
        "from sklearn.linear_model import LogisticRegression\n",
        "from sklearn.tree import DecisionTreeClassifier\n",
        "from sklearn.model_selection import train_test_split"
      ]
    },
    {
      "cell_type": "code",
      "execution_count": 25,
      "id": "8433b298",
      "metadata": {
        "id": "8433b298"
      },
      "outputs": [],
      "source": [
        "x_train,x_test,y_train,y_test=train_test_split(x,y,test_size=0.2,random_state=42)"
      ]
    },
    {
      "cell_type": "code",
      "execution_count": 26,
      "id": "9407e152",
      "metadata": {
        "colab": {
          "base_uri": "https://localhost:8080/"
        },
        "id": "9407e152",
        "outputId": "ee4e9e6c-ff49-4b3e-c516-04bf7f7ae2e8"
      },
      "outputs": [
        {
          "output_type": "execute_result",
          "data": {
            "text/plain": [
              "((99595, 1179), (24899, 1179), (99595,), (24899,))"
            ]
          },
          "metadata": {},
          "execution_count": 26
        }
      ],
      "source": [
        "x_train.shape,x_test.shape,y_train.shape,y_test.shape"
      ]
    },
    {
      "cell_type": "code",
      "execution_count": 27,
      "id": "a532a241",
      "metadata": {
        "colab": {
          "base_uri": "https://localhost:8080/"
        },
        "id": "a532a241",
        "outputId": "84448c87-bf0a-499e-9b6c-8874df0d34d8"
      },
      "outputs": [
        {
          "output_type": "execute_result",
          "data": {
            "text/plain": [
              "0    99507\n",
              "1       88\n",
              "Name: failure, dtype: int64"
            ]
          },
          "metadata": {},
          "execution_count": 27
        }
      ],
      "source": [
        "y_train.value_counts()"
      ]
    },
    {
      "cell_type": "code",
      "execution_count": 28,
      "id": "5ebb8ba4",
      "metadata": {
        "id": "5ebb8ba4"
      },
      "outputs": [],
      "source": [
        "from imblearn.over_sampling import SMOTE\n",
        "sm=SMOTE(random_state=42)\n",
        "x_res,y_res=sm.fit_resample(x_train,y_train)"
      ]
    },
    {
      "cell_type": "code",
      "execution_count": 29,
      "id": "707206cd",
      "metadata": {
        "colab": {
          "base_uri": "https://localhost:8080/"
        },
        "id": "707206cd",
        "outputId": "7dddabd6-3667-4b3f-88a1-9e83d40e8b45"
      },
      "outputs": [
        {
          "output_type": "execute_result",
          "data": {
            "text/plain": [
              "0    99507\n",
              "1    99507\n",
              "Name: failure, dtype: int64"
            ]
          },
          "metadata": {},
          "execution_count": 29
        }
      ],
      "source": [
        "y_res.value_counts()"
      ]
    },
    {
      "cell_type": "code",
      "execution_count": 30,
      "id": "e14486c2",
      "metadata": {
        "id": "e14486c2"
      },
      "outputs": [],
      "source": [
        " def classalgo_test(x_train,x_test,y_train,y_test): #classification\n",
        "      \n",
        "    g=GaussianNB()\n",
        "    b=BernoulliNB()\n",
        "    kc=KNeighborsClassifier()\n",
        "    lr=LogisticRegression()\n",
        "    dc=DecisionTreeClassifier()\n",
        "    rfc=RandomForestClassifier()\n",
        "    gbc=GradientBoostingClassifier()\n",
        "    \n",
        "    \n",
        "    algos = [g,b,kc,lr,dc,rfc,gbc]\n",
        "    algo_names = ['GaussianNB','BernoulliNB','KNeighborsClassifier','LogisticRegression','DecisionTreeClassifier','RandomForestClassifier','GradientBoostingClassifier']\n",
        "    accsc=[]\n",
        "    precsc=[]\n",
        "    \n",
        "    result = pd.DataFrame(columns = ['Accuracy Score','Precision Score'],index = algo_names)\n",
        "    \n",
        "    for algo in algos:\n",
        "    \n",
        "        algo.fit(x_train,y_train)\n",
        "        pred=algo.predict(x_test)\n",
        "        accsc.append(accuracy_score(pred,y_test))\n",
        "        precsc.append(precision_score(pred,y_test))\n",
        "    \n",
        "    result['Accuracy Score'] = accsc\n",
        "    result['Precision Score'] = precsc\n",
        "    \n",
        "    return result.sort_values('Accuracy Score', ascending=False)"
      ]
    },
    {
      "cell_type": "code",
      "execution_count": 31,
      "id": "7152db55",
      "metadata": {
        "colab": {
          "base_uri": "https://localhost:8080/",
          "height": 269
        },
        "id": "7152db55",
        "outputId": "cab33be5-f121-45df-ecc3-1daab65065cc"
      },
      "outputs": [
        {
          "output_type": "execute_result",
          "data": {
            "text/plain": [
              "                            Accuracy Score  Precision Score\n",
              "RandomForestClassifier            0.998916         0.000000\n",
              "DecisionTreeClassifier            0.997630         0.055556\n",
              "GaussianNB                        0.993534         0.222222\n",
              "BernoulliNB                       0.984859         0.333333\n",
              "GradientBoostingClassifier        0.969918         0.555556\n",
              "LogisticRegression                0.909916         0.611111\n",
              "KNeighborsClassifier              0.791799         0.333333"
            ],
            "text/html": [
              "\n",
              "  <div id=\"df-c6a3c01f-7f88-4ff8-a373-86a0f98eaf56\">\n",
              "    <div class=\"colab-df-container\">\n",
              "      <div>\n",
              "<style scoped>\n",
              "    .dataframe tbody tr th:only-of-type {\n",
              "        vertical-align: middle;\n",
              "    }\n",
              "\n",
              "    .dataframe tbody tr th {\n",
              "        vertical-align: top;\n",
              "    }\n",
              "\n",
              "    .dataframe thead th {\n",
              "        text-align: right;\n",
              "    }\n",
              "</style>\n",
              "<table border=\"1\" class=\"dataframe\">\n",
              "  <thead>\n",
              "    <tr style=\"text-align: right;\">\n",
              "      <th></th>\n",
              "      <th>Accuracy Score</th>\n",
              "      <th>Precision Score</th>\n",
              "    </tr>\n",
              "  </thead>\n",
              "  <tbody>\n",
              "    <tr>\n",
              "      <th>RandomForestClassifier</th>\n",
              "      <td>0.998916</td>\n",
              "      <td>0.000000</td>\n",
              "    </tr>\n",
              "    <tr>\n",
              "      <th>DecisionTreeClassifier</th>\n",
              "      <td>0.997630</td>\n",
              "      <td>0.055556</td>\n",
              "    </tr>\n",
              "    <tr>\n",
              "      <th>GaussianNB</th>\n",
              "      <td>0.993534</td>\n",
              "      <td>0.222222</td>\n",
              "    </tr>\n",
              "    <tr>\n",
              "      <th>BernoulliNB</th>\n",
              "      <td>0.984859</td>\n",
              "      <td>0.333333</td>\n",
              "    </tr>\n",
              "    <tr>\n",
              "      <th>GradientBoostingClassifier</th>\n",
              "      <td>0.969918</td>\n",
              "      <td>0.555556</td>\n",
              "    </tr>\n",
              "    <tr>\n",
              "      <th>LogisticRegression</th>\n",
              "      <td>0.909916</td>\n",
              "      <td>0.611111</td>\n",
              "    </tr>\n",
              "    <tr>\n",
              "      <th>KNeighborsClassifier</th>\n",
              "      <td>0.791799</td>\n",
              "      <td>0.333333</td>\n",
              "    </tr>\n",
              "  </tbody>\n",
              "</table>\n",
              "</div>\n",
              "      <button class=\"colab-df-convert\" onclick=\"convertToInteractive('df-c6a3c01f-7f88-4ff8-a373-86a0f98eaf56')\"\n",
              "              title=\"Convert this dataframe to an interactive table.\"\n",
              "              style=\"display:none;\">\n",
              "        \n",
              "  <svg xmlns=\"http://www.w3.org/2000/svg\" height=\"24px\"viewBox=\"0 0 24 24\"\n",
              "       width=\"24px\">\n",
              "    <path d=\"M0 0h24v24H0V0z\" fill=\"none\"/>\n",
              "    <path d=\"M18.56 5.44l.94 2.06.94-2.06 2.06-.94-2.06-.94-.94-2.06-.94 2.06-2.06.94zm-11 1L8.5 8.5l.94-2.06 2.06-.94-2.06-.94L8.5 2.5l-.94 2.06-2.06.94zm10 10l.94 2.06.94-2.06 2.06-.94-2.06-.94-.94-2.06-.94 2.06-2.06.94z\"/><path d=\"M17.41 7.96l-1.37-1.37c-.4-.4-.92-.59-1.43-.59-.52 0-1.04.2-1.43.59L10.3 9.45l-7.72 7.72c-.78.78-.78 2.05 0 2.83L4 21.41c.39.39.9.59 1.41.59.51 0 1.02-.2 1.41-.59l7.78-7.78 2.81-2.81c.8-.78.8-2.07 0-2.86zM5.41 20L4 18.59l7.72-7.72 1.47 1.35L5.41 20z\"/>\n",
              "  </svg>\n",
              "      </button>\n",
              "      \n",
              "  <style>\n",
              "    .colab-df-container {\n",
              "      display:flex;\n",
              "      flex-wrap:wrap;\n",
              "      gap: 12px;\n",
              "    }\n",
              "\n",
              "    .colab-df-convert {\n",
              "      background-color: #E8F0FE;\n",
              "      border: none;\n",
              "      border-radius: 50%;\n",
              "      cursor: pointer;\n",
              "      display: none;\n",
              "      fill: #1967D2;\n",
              "      height: 32px;\n",
              "      padding: 0 0 0 0;\n",
              "      width: 32px;\n",
              "    }\n",
              "\n",
              "    .colab-df-convert:hover {\n",
              "      background-color: #E2EBFA;\n",
              "      box-shadow: 0px 1px 2px rgba(60, 64, 67, 0.3), 0px 1px 3px 1px rgba(60, 64, 67, 0.15);\n",
              "      fill: #174EA6;\n",
              "    }\n",
              "\n",
              "    [theme=dark] .colab-df-convert {\n",
              "      background-color: #3B4455;\n",
              "      fill: #D2E3FC;\n",
              "    }\n",
              "\n",
              "    [theme=dark] .colab-df-convert:hover {\n",
              "      background-color: #434B5C;\n",
              "      box-shadow: 0px 1px 3px 1px rgba(0, 0, 0, 0.15);\n",
              "      filter: drop-shadow(0px 1px 2px rgba(0, 0, 0, 0.3));\n",
              "      fill: #FFFFFF;\n",
              "    }\n",
              "  </style>\n",
              "\n",
              "      <script>\n",
              "        const buttonEl =\n",
              "          document.querySelector('#df-c6a3c01f-7f88-4ff8-a373-86a0f98eaf56 button.colab-df-convert');\n",
              "        buttonEl.style.display =\n",
              "          google.colab.kernel.accessAllowed ? 'block' : 'none';\n",
              "\n",
              "        async function convertToInteractive(key) {\n",
              "          const element = document.querySelector('#df-c6a3c01f-7f88-4ff8-a373-86a0f98eaf56');\n",
              "          const dataTable =\n",
              "            await google.colab.kernel.invokeFunction('convertToInteractive',\n",
              "                                                     [key], {});\n",
              "          if (!dataTable) return;\n",
              "\n",
              "          const docLinkHtml = 'Like what you see? Visit the ' +\n",
              "            '<a target=\"_blank\" href=https://colab.research.google.com/notebooks/data_table.ipynb>data table notebook</a>'\n",
              "            + ' to learn more about interactive tables.';\n",
              "          element.innerHTML = '';\n",
              "          dataTable['output_type'] = 'display_data';\n",
              "          await google.colab.output.renderOutput(dataTable, element);\n",
              "          const docLink = document.createElement('div');\n",
              "          docLink.innerHTML = docLinkHtml;\n",
              "          element.appendChild(docLink);\n",
              "        }\n",
              "      </script>\n",
              "    </div>\n",
              "  </div>\n",
              "  "
            ]
          },
          "metadata": {},
          "execution_count": 31
        }
      ],
      "source": [
        "classalgo_test(x_res,x_test,y_res,y_test)"
      ]
    },
    {
      "cell_type": "code",
      "execution_count": 32,
      "id": "9dc166e8",
      "metadata": {
        "id": "9dc166e8"
      },
      "outputs": [],
      "source": [
        "lr=LogisticRegression()"
      ]
    },
    {
      "cell_type": "code",
      "execution_count": 33,
      "id": "85155cae",
      "metadata": {
        "colab": {
          "base_uri": "https://localhost:8080/"
        },
        "id": "85155cae",
        "outputId": "25677449-b531-452e-f1bc-c91c2048ec9b"
      },
      "outputs": [
        {
          "output_type": "execute_result",
          "data": {
            "text/plain": [
              "LogisticRegression()"
            ]
          },
          "metadata": {},
          "execution_count": 33
        }
      ],
      "source": [
        "lr.fit(x_res,y_res)"
      ]
    },
    {
      "cell_type": "code",
      "execution_count": 34,
      "id": "e8cdee4c",
      "metadata": {
        "id": "e8cdee4c"
      },
      "outputs": [],
      "source": [
        "tahmin1=lr.predict(x_test)"
      ]
    },
    {
      "cell_type": "code",
      "execution_count": 35,
      "id": "590986ac",
      "metadata": {
        "colab": {
          "base_uri": "https://localhost:8080/"
        },
        "id": "590986ac",
        "outputId": "86af4fa9-3782-4f22-e4a6-aac30bcc59e6"
      },
      "outputs": [
        {
          "output_type": "stream",
          "name": "stdout",
          "text": [
            "              precision    recall  f1-score   support\n",
            "\n",
            "           0       0.91      1.00      0.95     22652\n",
            "           1       0.61      0.00      0.01      2247\n",
            "\n",
            "    accuracy                           0.91     24899\n",
            "   macro avg       0.76      0.50      0.48     24899\n",
            "weighted avg       0.88      0.91      0.87     24899\n",
            "\n"
          ]
        }
      ],
      "source": [
        "print(classification_report(tahmin1,y_test))"
      ]
    },
    {
      "cell_type": "code",
      "execution_count": null,
      "id": "84ae7a9c",
      "metadata": {
        "id": "84ae7a9c"
      },
      "outputs": [],
      "source": []
    }
  ],
  "metadata": {
    "kernelspec": {
      "display_name": "Python 3 (ipykernel)",
      "language": "python",
      "name": "python3"
    },
    "language_info": {
      "codemirror_mode": {
        "name": "ipython",
        "version": 3
      },
      "file_extension": ".py",
      "mimetype": "text/x-python",
      "name": "python",
      "nbconvert_exporter": "python",
      "pygments_lexer": "ipython3",
      "version": "3.9.12"
    },
    "colab": {
      "provenance": []
    }
  },
  "nbformat": 4,
  "nbformat_minor": 5
}